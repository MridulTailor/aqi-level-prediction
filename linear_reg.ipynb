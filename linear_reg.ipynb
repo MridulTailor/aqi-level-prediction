{
 "cells": [
  {
   "cell_type": "markdown",
   "metadata": {},
   "source": [
    "## Multivariate Regression "
   ]
  },
  {
   "cell_type": "code",
   "execution_count": 21,
   "metadata": {},
   "outputs": [
    {
     "name": "stdout",
     "output_type": "stream",
     "text": [
      "(12,) (12,)\n"
     ]
    }
   ],
   "source": [
    "import numpy as np\n",
    "import pandas as pd\n",
    "%run ./preprocessing.ipynb\n"
   ]
  },
  {
   "cell_type": "code",
   "execution_count": 22,
   "metadata": {},
   "outputs": [
    {
     "name": "stdout",
     "output_type": "stream",
     "text": [
      "(19880, 13)\n"
     ]
    }
   ],
   "source": [
    "ones=np.ones((x_train.shape[0],1))\n",
    "x_train_lr = np.hstack((ones, x_train)) #updation of older matrix by stacking in  a horizontal fashion\n",
    "print(x_train_lr.shape)"
   ]
  },
  {
   "cell_type": "code",
   "execution_count": 23,
   "metadata": {},
   "outputs": [
    {
     "data": {
      "text/plain": [
       "array([[ 1.        , -0.68426604, -0.94456167, -0.48650126],\n",
       "       [ 1.        , -0.65340169, -0.83869168, -0.37097182],\n",
       "       [ 1.        , -0.58685044, -0.74141289, -0.34804575],\n",
       "       [ 1.        , -0.77959186, -1.06536713, -0.48110689]])"
      ]
     },
     "execution_count": 23,
     "metadata": {},
     "output_type": "execute_result"
    }
   ],
   "source": [
    "x_train_lr[:4,:4]"
   ]
  },
  {
   "cell_type": "code",
   "execution_count": 24,
   "metadata": {},
   "outputs": [],
   "source": [
    "def hypothesis(x,theta):\n",
    "    y_=0.0 #(y hat)\n",
    "    n=x.shape[0]\n",
    "    for i in range(n):\n",
    "        y_+=(theta[i]*x[i])\n",
    "    return y_\n",
    "\n",
    "def error(X,y,theta):\n",
    "    e=0.0\n",
    "    m=X.shape[0]\n",
    "    \n",
    "    for i in range(m):\n",
    "        y_=hypothesis(X[i],theta)\n",
    "        e+=(y[i]-y_)**2\n",
    "        \n",
    "    return e/m\n",
    "    \n",
    "\n",
    "def gradient(X,y,theta):\n",
    "    m,n=X.shape\n",
    "    \n",
    "    grad= np.zeros((n,)) #no of features\n",
    "    \n",
    "    #for all values of j\n",
    "    for j in range(n):\n",
    "        #sum over all examples\n",
    "        for i in range(m):\n",
    "            y_=hypothesis(X[i],theta)\n",
    "            grad[j]+=(y_-y[i])*X[i][j]\n",
    "            \n",
    "    #Out of loops\n",
    "    return grad/m\n",
    "        \n",
    "    \n",
    "\n",
    "def gradient_descent(X,y,learning_rate=0.1,max_epochs=300): #epochs number of iterations\n",
    "    m,n= X.shape\n",
    "    theta=np.zeros((n,))\n",
    "    error_list=[]\n",
    "    \n",
    "    for i in range(max_epochs):\n",
    "        e=error(X,y,theta)\n",
    "        error_list.append(e)\n",
    "        \n",
    "        grad=gradient(X,y,theta)\n",
    "        for j in range(n):\n",
    "            theta[j]=theta[j]-learning_rate*grad[j]\n",
    "            \n",
    "            \n",
    "    return theta,error_list"
   ]
  },
  {
   "cell_type": "code",
   "execution_count": 25,
   "metadata": {},
   "outputs": [],
   "source": [
    "import pickle\n",
    "with open('model_lr','rb') as f:\n",
    "    linearreg_model=pickle.load(f)"
   ]
  },
  {
   "cell_type": "code",
   "execution_count": 26,
   "metadata": {},
   "outputs": [],
   "source": [
    "theta, error_list=linearreg_model"
   ]
  },
  {
   "cell_type": "code",
   "execution_count": 27,
   "metadata": {},
   "outputs": [],
   "source": [
    "y_lr=[]\n",
    "ones=np.ones((x_test.shape[0],1))\n",
    "\n",
    "x_test_lr= np.hstack((ones,x_test)) #updation of older matrix by stacking in  a horizontal fashion\n",
    "\n",
    "m=x_test_lr.shape[0]\n",
    "\n",
    "for i in range(m):\n",
    "    pred=hypothesis(x_test_lr[i],theta)\n",
    "    y_lr.append(pred)\n",
    "    \n",
    "y_lr=np.array(y_lr)"
   ]
  },
  {
   "cell_type": "code",
   "execution_count": 34,
   "metadata": {},
   "outputs": [
    {
     "name": "stdout",
     "output_type": "stream",
     "text": [
      "0.5\n"
     ]
    }
   ],
   "source": [
    "from sklearn.metrics import r2_score\n",
    "lr_r2=round(r2_score(y_test, y_lr),1)\n",
    "print(lr_r2)"
   ]
  },
  {
   "cell_type": "code",
   "execution_count": null,
   "metadata": {},
   "outputs": [],
   "source": []
  },
  {
   "cell_type": "code",
   "execution_count": 11,
   "metadata": {
    "scrolled": true
   },
   "outputs": [],
   "source": [
    "# plt.plot(error_list)\n",
    "# plt.show()"
   ]
  },
  {
   "cell_type": "code",
   "execution_count": 18,
   "metadata": {},
   "outputs": [],
   "source": [
    "# print(theta)"
   ]
  },
  {
   "cell_type": "code",
   "execution_count": 16,
   "metadata": {},
   "outputs": [],
   "source": [
    "# x_test1=[1.        ,  0.19874368,  0.        , -0.16958197, -0.01221309,\n",
    "#         0.29757216,  0.        ,  1.64085426,  1.98241782,  2.90883081,\n",
    "#        -0.23019245, -0.52139657,  0.29280211]\n",
    "# arr = np.array(x_test1)\n",
    "# pred=hypothesis(arr,theta)\n",
    "# print(pred)"
   ]
  },
  {
   "cell_type": "code",
   "execution_count": 19,
   "metadata": {},
   "outputs": [],
   "source": [
    "##predict AQI in Input\n",
    "#pred=hypothesis(arr,theta)"
   ]
  },
  {
   "cell_type": "code",
   "execution_count": 17,
   "metadata": {},
   "outputs": [],
   "source": [
    "# print(pred)"
   ]
  }
 ],
 "metadata": {
  "kernelspec": {
   "display_name": "Python 3",
   "language": "python",
   "name": "python3"
  },
  "language_info": {
   "codemirror_mode": {
    "name": "ipython",
    "version": 3
   },
   "file_extension": ".py",
   "mimetype": "text/x-python",
   "name": "python",
   "nbconvert_exporter": "python",
   "pygments_lexer": "ipython3",
   "version": "3.8.2"
  }
 },
 "nbformat": 4,
 "nbformat_minor": 4
}
